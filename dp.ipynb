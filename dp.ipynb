{
 "cells": [
  {
   "cell_type": "code",
   "execution_count": 1,
   "metadata": {
    "collapsed": true
   },
   "outputs": [],
   "source": [
    "import pandas as pd\n",
    "import numpy as np"
   ]
  },
  {
   "cell_type": "code",
   "execution_count": 2,
   "metadata": {
    "collapsed": true
   },
   "outputs": [],
   "source": [
    "#Pre-process code"
   ]
  },
  {
   "cell_type": "code",
   "execution_count": 3,
   "metadata": {
    "collapsed": true
   },
   "outputs": [],
   "source": [
    "csvfile=pd.read_csv(\"./rainfall in india 1901-2015.csv\")\n",
    "ff=open(\"dp.txt\")\n",
    "fg=ff.read()\n",
    "ff.close()\n",
    "dd=np.array(csvfile)"
   ]
  },
  {
   "cell_type": "code",
   "execution_count": 4,
   "metadata": {},
   "outputs": [
    {
     "name": "stdout",
     "output_type": "stream",
     "text": [
      "Places to analyze rainfall on: \n",
      "ANDAMAN & NICOBAR ISLANDS,\n",
      "ARUNACHAL PRADESH,\n",
      "ASSAM & MEGHALAYA,\n",
      "BIHAR,\n",
      "CHHATTISGARH,\n",
      "COASTAL ANDHRA PRADESH,\n",
      "COASTAL KARNATAKA,\n",
      "EAST MADHYA PRADESH,\n",
      "EAST RAJASTHAN,\n",
      "EAST UTTAR PRADESH,\n",
      "GANGETIC WEST BENGAL,\n",
      "GUJARAT REGION,\n",
      "HARYANA DELHI & CHANDIGARH,\n",
      "HIMACHAL PRADESH,\n",
      "JAMMU & KASHMIR,\n",
      "JHARKHAND,\n",
      "KERALA,\n",
      "KONKAN & GOA,\n",
      "LAKSHADWEEP,\n",
      "MADHYA MAHARASHTRA,\n",
      "MATATHWADA,\n",
      "NAGA MANI MIZO TRIPURA,\n",
      "NORTH INTERIOR KARNATAKA,\n",
      "ORISSA,\n",
      "PUNJAB,\n",
      "RAYALSEEMA,\n",
      "SAURASHTRA & KUTCH,\n",
      "SOUTH INTERIOR KARNATAKA,\n",
      "SUB HIMALAYAN WEST BENGAL & SIKKIM,\n",
      "TAMIL NADU,\n",
      "TELANGANA,\n",
      "UTTARAKHAND,\n",
      "VIDARBHA,\n",
      "WEST MADHYA PRADESH,\n",
      "WEST RAJASTHAN,\n",
      "WEST UTTAR PRADESH\n"
     ]
    }
   ],
   "source": [
    "print(\"Places to analyze rainfall on: \"+'\\n'+',\\n'.join((np.unique(dd[:,0]))))"
   ]
  },
  {
   "cell_type": "code",
   "execution_count": 5,
   "metadata": {},
   "outputs": [
    {
     "data": {
      "text/plain": [
       "115"
      ]
     },
     "execution_count": 5,
     "metadata": {},
     "output_type": "execute_result"
    }
   ],
   "source": [
    "rowss=fg.split('kktx')[1:116]\n",
    "len(rowss)#1900-2014"
   ]
  },
  {
   "cell_type": "code",
   "execution_count": 6,
   "metadata": {},
   "outputs": [],
   "source": [
    "matt=[r.split(\"kkty\") for r in rowss]"
   ]
  },
  {
   "cell_type": "code",
   "execution_count": 7,
   "metadata": {},
   "outputs": [],
   "source": [
    "mat=[x[1].replace(\"\\nGoddess Durga Departure on \",\" \").replace(\"Goddess Durga Arrival on \",\"\").replace(\"\\n\",\"\").split() for x in matt]"
   ]
  },
  {
   "cell_type": "code",
   "execution_count": 8,
   "metadata": {},
   "outputs": [
    {
     "name": "stdout",
     "output_type": "stream",
     "text": [
      "List of carriers of Devi: Boat, Buffalo, Charanayudha, Elephant, Horse, Nara, Palanquin\n"
     ]
    }
   ],
   "source": [
    "print(\"List of carriers of Devi: \"+', '.join(np.unique(ar=np.matrix(mat).flatten().tolist())))"
   ]
  },
  {
   "cell_type": "code",
   "execution_count": 9,
   "metadata": {
    "collapsed": true
   },
   "outputs": [],
   "source": [
    "#Analyzer code"
   ]
  },
  {
   "cell_type": "code",
   "execution_count": 18,
   "metadata": {},
   "outputs": [],
   "source": [
    "targetyears=np.where(np.array(mat)[:,0]==\"Elephant\")[0]\n",
    "mask=[True]*115;\n",
    "mask=np.array(mask)\n",
    "mask[np.array(targetyears)]=False"
   ]
  },
  {
   "cell_type": "code",
   "execution_count": 19,
   "metadata": {},
   "outputs": [
    {
     "name": "stdout",
     "output_type": "stream",
     "text": [
      "Average rainfall in years where Devi arrived on Elephant : 1536.3344827586207\n",
      "Average rainfall in years where Devi did not arrive on Elephant : 1475.027906976744\n"
     ]
    }
   ],
   "source": [
    "print(\"Average rainfall in years where Devi arrived on Elephant : \"+str(np.mean(dd[np.where(dd[:,0]==\"GANGETIC WEST BENGAL\")][targetyears,14])))\n",
    "print(\"Average rainfall in years where Devi did not arrive on Elephant : \"+str(np.mean(dd[np.where(dd[:,0]==\"GANGETIC WEST BENGAL\")][mask,14])))"
   ]
  },
  {
   "cell_type": "code",
   "execution_count": 20,
   "metadata": {},
   "outputs": [],
   "source": [
    "targetyears=np.where(np.array(mat)[:,1]==\"Elephant\")[0]\n",
    "mask=[True]*115;\n",
    "mask=np.array(mask)\n",
    "mask[np.array(targetyears)]=False"
   ]
  },
  {
   "cell_type": "code",
   "execution_count": 21,
   "metadata": {},
   "outputs": [
    {
     "name": "stdout",
     "output_type": "stream",
     "text": [
      "Average rainfall in years where Devi departed on Elephant : 1500.526086956522\n",
      "Average rainfall in years where Devi did not depart on Elephant : 1487.9782608695648\n"
     ]
    }
   ],
   "source": [
    "print(\"Average rainfall in years where Devi departed on Elephant : \"+str(np.mean(dd[np.where(dd[:,0]==\"GANGETIC WEST BENGAL\")][targetyears,14])))\n",
    "print(\"Average rainfall in years where Devi did not depart on Elephant : \"+str(np.mean(dd[np.where(dd[:,0]==\"GANGETIC WEST BENGAL\")][mask,14])))"
   ]
  },
  {
   "cell_type": "code",
   "execution_count": 22,
   "metadata": {},
   "outputs": [],
   "source": [
    "targetyears=np.where((np.array(mat)[:,1]==\"Elephant\")&(np.array(mat)[:,0]==\"Elephant\"))[0]\n",
    "mask=[True]*115;\n",
    "mask=np.array(mask)\n",
    "mask[np.array(targetyears)]=False"
   ]
  },
  {
   "cell_type": "code",
   "execution_count": 23,
   "metadata": {},
   "outputs": [
    {
     "name": "stdout",
     "output_type": "stream",
     "text": [
      "Average rainfall in years where Devi arrived and departed on Elephant : 1527.8666666666668\n",
      "Average rainfall in years where Devi did not both depart and arrive on Elephant : 1488.4302752293577\n"
     ]
    }
   ],
   "source": [
    "print(\"Average rainfall in years where Devi arrived and departed on Elephant : \"+str(np.mean(dd[np.where(dd[:,0]==\"GANGETIC WEST BENGAL\")][targetyears,14])))\n",
    "print(\"Average rainfall in years where Devi did not both depart and arrive on Elephant : \"+str(np.mean(dd[np.where(dd[:,0]==\"GANGETIC WEST BENGAL\")][mask,14])))"
   ]
  },
  {
   "cell_type": "code",
   "execution_count": 50,
   "metadata": {},
   "outputs": [],
   "source": [
    "targetyears=np.where((np.array(mat)[:,1]==\"Elephant\")&(np.array(mat)[:,0]==\"Elephant\"))[0]\n",
    "mask=[True]*115;\n",
    "mask=np.array(mask)\n",
    "mask[np.where(~((np.array(mat)[:,1]!=\"Elephant\")&(np.array(mat)[:,0]!=\"Elephant\")))[0]]=False"
   ]
  },
  {
   "cell_type": "code",
   "execution_count": 52,
   "metadata": {},
   "outputs": [
    {
     "name": "stdout",
     "output_type": "stream",
     "text": [
      "Average rainfall in years where Devi arrived and departed on Elephant : 1527.8666666666668\n",
      "Average rainfall in years where Devi did neither depart nor arrive on Elephant : 1471.1231884057968\n",
      "\n",
      "Median rainfall in years where Devi arrived and departed on Elephant : 1510.4499999999998\n",
      "Median rainfall in years where Devi did neither depart nor arrive on Elephant : 1406.4\n"
     ]
    }
   ],
   "source": [
    "print(\"Number of datapoints : \"+str(len(targetyears)))\n",
    "print(\"Average rainfall in years where Devi arrived and departed on Elephant : \"+str(np.mean(dd[np.where(dd[:,0]==\"GANGETIC WEST BENGAL\")][targetyears,14])))\n",
    "print(\"Average rainfall in years where Devi did neither depart nor arrive on Elephant : \"+str(np.mean(dd[np.where(dd[:,0]==\"GANGETIC WEST BENGAL\")][mask,14])))\n",
    "print(\"\")\n",
    "print(\"Median rainfall in years where Devi arrived and departed on Elephant : \"+str(np.median(dd[np.where(dd[:,0]==\"GANGETIC WEST BENGAL\")][targetyears,14])))\n",
    "print(\"Median rainfall in years where Devi did neither depart nor arrive on Elephant : \"+str(np.median(dd[np.where(dd[:,0]==\"GANGETIC WEST BENGAL\")][mask,14])))"
   ]
  },
  {
   "cell_type": "code",
   "execution_count": null,
   "metadata": {
    "collapsed": true
   },
   "outputs": [],
   "source": []
  },
  {
   "cell_type": "code",
   "execution_count": 53,
   "metadata": {
    "collapsed": true
   },
   "outputs": [],
   "source": [
    "targetyears=np.where((np.array(mat)[:,0]==\"Boat\"))[0]\n",
    "mask=[True]*115;\n",
    "mask=np.array(mask)\n",
    "mask[targetyears]=False"
   ]
  },
  {
   "cell_type": "code",
   "execution_count": 54,
   "metadata": {},
   "outputs": [
    {
     "name": "stdout",
     "output_type": "stream",
     "text": [
      "Average rainfall in years where Devi arrived by Boat : 1462.846153846154\n",
      "Average rainfall in years where Devi did not arrive by Boat : 1494.0107843137253\n",
      "\n",
      "Median rainfall in years where Devi arrived by Boat : 1395.4\n",
      "Median rainfall in years where Devi did not arrive by Boat : 1490.65\n"
     ]
    }
   ],
   "source": [
    "print(\"Number of datapoints : \"+str(len(targetyears)))\n",
    "print(\"Average rainfall in years where Devi arrived by Boat : \"+str(np.mean(dd[np.where(dd[:,0]==\"GANGETIC WEST BENGAL\")][targetyears,14])))\n",
    "print(\"Average rainfall in years where Devi did not arrive by Boat : \"+str(np.mean(dd[np.where(dd[:,0]==\"GANGETIC WEST BENGAL\")][mask,14])))\n",
    "print(\"\")\n",
    "print(\"Median rainfall in years where Devi arrived by Boat : \"+str(np.median(dd[np.where(dd[:,0]==\"GANGETIC WEST BENGAL\")][targetyears,14])))\n",
    "print(\"Median rainfall in years where Devi did not arrive by Boat : \"+str(np.median(dd[np.where(dd[:,0]==\"GANGETIC WEST BENGAL\")][mask,14])))\n"
   ]
  },
  {
   "cell_type": "code",
   "execution_count": 55,
   "metadata": {},
   "outputs": [
    {
     "name": "stdout",
     "output_type": "stream",
     "text": [
      "Average rainfall in years where Devi arrived on Horse : 1439.4102564102568\n",
      "Average rainfall in years where Devi did not arrive on Horse : 1516.6986842105262\n",
      "\n",
      "Median rainfall in years where Devi arrived on Horse : 1400.0\n",
      "Median rainfall in years where Devi did not arrive on Horse : 1500.35\n"
     ]
    }
   ],
   "source": [
    "targetyears=np.where((np.array(mat)[:,0]==\"Horse\"))[0]\n",
    "mask=[True]*115;\n",
    "mask=np.array(mask)\n",
    "mask[targetyears]=False\n",
    "print(\"Number of datapoints : \"+str(len(targetyears)))\n",
    "print(\"Average rainfall in years where Devi arrived on Horse : \"+str(np.mean(dd[np.where(dd[:,0]==\"GANGETIC WEST BENGAL\")][targetyears,14])))\n",
    "print(\"Average rainfall in years where Devi did not arrive on Horse : \"+str(np.mean(dd[np.where(dd[:,0]==\"GANGETIC WEST BENGAL\")][mask,14])))\n",
    "print(\"\")\n",
    "print(\"Median rainfall in years where Devi arrived on Horse : \"+str(np.median(dd[np.where(dd[:,0]==\"GANGETIC WEST BENGAL\")][targetyears,14])))\n",
    "print(\"Median rainfall in years where Devi did not arrive on Horse : \"+str(np.median(dd[np.where(dd[:,0]==\"GANGETIC WEST BENGAL\")][mask,14])))\n"
   ]
  },
  {
   "cell_type": "code",
   "execution_count": 59,
   "metadata": {},
   "outputs": [
    {
     "name": "stdout",
     "output_type": "stream",
     "text": [
      "Number of datapoints : 34\n",
      "Average rainfall in years where Devi arrived by Palanquin : 1520.541176470588\n",
      "Average rainfall in years where Devi did not arrive by Palanquin : 1477.8728395061726\n",
      "\n",
      "Median rainfall in years where Devi arrived on Palanquin : 1526.4\n",
      "Median rainfall in years where Devi did not arrive by Palanquin : 1475.8\n"
     ]
    }
   ],
   "source": [
    "targetCarrier=\"Palanquin\"\n",
    "targetyears=np.where((np.array(mat)[:,0]==targetCarrier))[0]\n",
    "mask=[True]*115;\n",
    "mask=np.array(mask)\n",
    "mask[targetyears]=False\n",
    "print(\"Number of datapoints : \"+str(len(targetyears)))\n",
    "print(\"Average rainfall in years where Devi arrived by \"+targetCarrier+\" : \"+str(np.mean(dd[np.where(dd[:,0]==\"GANGETIC WEST BENGAL\")][targetyears,14])))\n",
    "print(\"Average rainfall in years where Devi did not arrive by \"+targetCarrier+\" : \"+str(np.mean(dd[np.where(dd[:,0]==\"GANGETIC WEST BENGAL\")][mask,14])))\n",
    "print(\"\")\n",
    "print(\"Median rainfall in years where Devi arrived on \"+targetCarrier+\" : \"+str(np.median(dd[np.where(dd[:,0]==\"GANGETIC WEST BENGAL\")][targetyears,14])))\n",
    "print(\"Median rainfall in years where Devi did not arrive by \"+targetCarrier+\" : \"+str(np.median(dd[np.where(dd[:,0]==\"GANGETIC WEST BENGAL\")][mask,14])))\n"
   ]
  },
  {
   "cell_type": "code",
   "execution_count": 62,
   "metadata": {},
   "outputs": [
    {
     "name": "stdout",
     "output_type": "stream",
     "text": [
      "Number of datapoints : 33\n",
      "Average rainfall in years where Devi departed by Buffalo : 1517.3666666666668\n",
      "Average rainfall in years where Devi did not depart by Buffalo : 1479.670731707317\n",
      "\n",
      "Median rainfall in years where Devi departed on Buffalo : 1521.0\n",
      "Median rainfall in years where Devi did not depart by Buffalo : 1464.9\n"
     ]
    }
   ],
   "source": [
    "targetCarrier=\"Buffalo\"\n",
    "targetyears=np.where((np.array(mat)[:,1]==targetCarrier))[0]\n",
    "mask=[True]*115;\n",
    "mask=np.array(mask)\n",
    "mask[targetyears]=False\n",
    "print(\"Number of datapoints : \"+str(len(targetyears)))\n",
    "print(\"Average rainfall in years where Devi departed by \"+targetCarrier+\" : \"+str(np.mean(dd[np.where(dd[:,0]==\"GANGETIC WEST BENGAL\")][targetyears,14])))\n",
    "print(\"Average rainfall in years where Devi did not depart by \"+targetCarrier+\" : \"+str(np.mean(dd[np.where(dd[:,0]==\"GANGETIC WEST BENGAL\")][mask,14])))\n",
    "print(\"\")\n",
    "print(\"Median rainfall in years where Devi departed on \"+targetCarrier+\" : \"+str(np.median(dd[np.where(dd[:,0]==\"GANGETIC WEST BENGAL\")][targetyears,14])))\n",
    "print(\"Median rainfall in years where Devi did not depart by \"+targetCarrier+\" : \"+str(np.median(dd[np.where(dd[:,0]==\"GANGETIC WEST BENGAL\")][mask,14])))\n"
   ]
  },
  {
   "cell_type": "code",
   "execution_count": 63,
   "metadata": {},
   "outputs": [
    {
     "name": "stdout",
     "output_type": "stream",
     "text": [
      "Number of datapoints : 25\n",
      "Average rainfall in years where Devi departed by Nara : 1411.588\n",
      "Average rainfall in years where Devi did not depart by Nara : 1512.4044444444442\n",
      "\n",
      "Median rainfall in years where Devi departed on Nara : 1337.8\n",
      "Median rainfall in years where Devi did not depart by Nara : 1513.4\n"
     ]
    }
   ],
   "source": [
    "targetCarrier=\"Nara\"\n",
    "targetyears=np.where((np.array(mat)[:,1]==targetCarrier))[0]\n",
    "mask=[True]*115;\n",
    "mask=np.array(mask)\n",
    "mask[targetyears]=False\n",
    "print(\"Number of datapoints : \"+str(len(targetyears)))\n",
    "print(\"Average rainfall in years where Devi departed by \"+targetCarrier+\" : \"+str(np.mean(dd[np.where(dd[:,0]==\"GANGETIC WEST BENGAL\")][targetyears,14])))\n",
    "print(\"Average rainfall in years where Devi did not depart by \"+targetCarrier+\" : \"+str(np.mean(dd[np.where(dd[:,0]==\"GANGETIC WEST BENGAL\")][mask,14])))\n",
    "print(\"\")\n",
    "print(\"Median rainfall in years where Devi departed on \"+targetCarrier+\" : \"+str(np.median(dd[np.where(dd[:,0]==\"GANGETIC WEST BENGAL\")][targetyears,14])))\n",
    "print(\"Median rainfall in years where Devi did not depart by \"+targetCarrier+\" : \"+str(np.median(dd[np.where(dd[:,0]==\"GANGETIC WEST BENGAL\")][mask,14])))\n"
   ]
  },
  {
   "cell_type": "code",
   "execution_count": 64,
   "metadata": {},
   "outputs": [
    {
     "name": "stdout",
     "output_type": "stream",
     "text": [
      "Number of datapoints : 34\n",
      "Average rainfall in years where Devi departed by Charanayudha : 1515.6235294117646\n",
      "Average rainfall in years where Devi did not depart by Charanayudha : 1479.9370370370366\n",
      "\n",
      "Median rainfall in years where Devi departed on Charanayudha : 1517.15\n",
      "Median rainfall in years where Devi did not depart by Charanayudha : 1463.6\n"
     ]
    }
   ],
   "source": [
    "targetCarrier=\"Charanayudha\"\n",
    "targetyears=np.where((np.array(mat)[:,1]==targetCarrier))[0]\n",
    "mask=[True]*115;\n",
    "mask=np.array(mask)\n",
    "mask[targetyears]=False\n",
    "print(\"Number of datapoints : \"+str(len(targetyears)))\n",
    "print(\"Average rainfall in years where Devi departed by \"+targetCarrier+\" : \"+str(np.mean(dd[np.where(dd[:,0]==\"GANGETIC WEST BENGAL\")][targetyears,14])))\n",
    "print(\"Average rainfall in years where Devi did not depart by \"+targetCarrier+\" : \"+str(np.mean(dd[np.where(dd[:,0]==\"GANGETIC WEST BENGAL\")][mask,14])))\n",
    "print(\"\")\n",
    "print(\"Median rainfall in years where Devi departed on \"+targetCarrier+\" : \"+str(np.median(dd[np.where(dd[:,0]==\"GANGETIC WEST BENGAL\")][targetyears,14])))\n",
    "print(\"Median rainfall in years where Devi did not depart by \"+targetCarrier+\" : \"+str(np.median(dd[np.where(dd[:,0]==\"GANGETIC WEST BENGAL\")][mask,14])))\n"
   ]
  },
  {
   "cell_type": "code",
   "execution_count": null,
   "metadata": {
    "collapsed": true
   },
   "outputs": [],
   "source": []
  }
 ],
 "metadata": {
  "kernelspec": {
   "display_name": "Python 3",
   "language": "python",
   "name": "python3"
  },
  "language_info": {
   "codemirror_mode": {
    "name": "ipython",
    "version": 3
   },
   "file_extension": ".py",
   "mimetype": "text/x-python",
   "name": "python",
   "nbconvert_exporter": "python",
   "pygments_lexer": "ipython3",
   "version": "3.6.0"
  }
 },
 "nbformat": 4,
 "nbformat_minor": 2
}
